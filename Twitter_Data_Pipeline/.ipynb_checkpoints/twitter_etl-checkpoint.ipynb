{
 "cells": [
  {
   "cell_type": "code",
   "execution_count": 1,
   "id": "396b1e8f-ce35-4709-ae79-41f230047529",
   "metadata": {},
   "outputs": [],
   "source": [
    "import tweepy\n",
    "import pandas as pd\n",
    "import json\n",
    "#from datatime import datatime\n",
    "import s3fs\n",
    "from dotenv import load_dotenv\n",
    "import os"
   ]
  },
  {
   "cell_type": "code",
   "execution_count": 2,
   "id": "52bdb31c-183e-48eb-9c90-65872e0bc9f0",
   "metadata": {},
   "outputs": [
    {
     "data": {
      "text/plain": [
       "True"
      ]
     },
     "execution_count": 2,
     "metadata": {},
     "output_type": "execute_result"
    }
   ],
   "source": [
    "'''\n",
    "def configure():\n",
    "    load_dotenv()\n",
    "'''\n",
    "load_dotenv()"
   ]
  },
  {
   "cell_type": "code",
   "execution_count": 3,
   "id": "5a95ffba-50dd-424c-a5c8-1d0ac3942455",
   "metadata": {},
   "outputs": [],
   "source": [
    "#Twitter authentication\n",
    "access_key=os.getenv('access_key')\n",
    "access_secret=os.getenv('access_secret')\n",
    "consumer_key=os.getenv('consumer_key')\n",
    "consumer_secret=os.getenv('consumer_secret')\n",
    "auth=tweepy.OAuthHandler(access_key,access_secret)\n",
    "auth.set_access_token(consumer_key,consumer_secret)"
   ]
  },
  {
   "cell_type": "code",
   "execution_count": 4,
   "id": "a0a54646-99eb-4ece-a2fb-e387ed962de8",
   "metadata": {},
   "outputs": [],
   "source": [
    "#Creating an API object\n",
    "api=tweepy.API(auth)\n",
    "\n",
    "tweeets=api.user_timeline(screen_name='@elonmusk',\n",
    "                        count=200,\n",
    "                        include_rts=False,\n",
    "                        tweet_mode='extended'\n",
    "                        )"
   ]
  },
  {
   "cell_type": "code",
   "execution_count": 5,
   "id": "637ed700-c40b-4438-ba48-011ab07b4eec",
   "metadata": {},
   "outputs": [],
   "source": [
    "tweet_list=[]\n",
    "for tweet in tweeets:\n",
    "    text=tweet._json[\"full_text\"]\n",
    "    refined_tweet={\"user\":tweet.user.screen_name,\n",
    "                  'text':text,\n",
    "                  'favourite_count':tweet.favorite_count,\n",
    "                  'retweet_count':tweet.retweet_count,\n",
    "                  'created_at':tweet.created_at}\n",
    "    tweet_list.append(refined_tweet)\n"
   ]
  },
  {
   "cell_type": "code",
   "execution_count": 6,
   "id": "23ae9e6f-de12-4f9b-b874-b2cef1dde98f",
   "metadata": {},
   "outputs": [
    {
     "data": {
      "text/html": [
       "<div>\n",
       "<style scoped>\n",
       "    .dataframe tbody tr th:only-of-type {\n",
       "        vertical-align: middle;\n",
       "    }\n",
       "\n",
       "    .dataframe tbody tr th {\n",
       "        vertical-align: top;\n",
       "    }\n",
       "\n",
       "    .dataframe thead th {\n",
       "        text-align: right;\n",
       "    }\n",
       "</style>\n",
       "<table border=\"1\" class=\"dataframe\">\n",
       "  <thead>\n",
       "    <tr style=\"text-align: right;\">\n",
       "      <th></th>\n",
       "      <th>user</th>\n",
       "      <th>text</th>\n",
       "      <th>favourite_count</th>\n",
       "      <th>retweet_count</th>\n",
       "      <th>created_at</th>\n",
       "    </tr>\n",
       "  </thead>\n",
       "  <tbody>\n",
       "    <tr>\n",
       "      <th>0</th>\n",
       "      <td>elonmusk</td>\n",
       "      <td>@TheRightMelissa Back then, George Washington ...</td>\n",
       "      <td>7497</td>\n",
       "      <td>425</td>\n",
       "      <td>2023-01-21 03:18:35+00:00</td>\n",
       "    </tr>\n",
       "    <tr>\n",
       "      <th>1</th>\n",
       "      <td>elonmusk</td>\n",
       "      <td>@EvaFoxU @BillyM2k Japan has higher total user...</td>\n",
       "      <td>1133</td>\n",
       "      <td>109</td>\n",
       "      <td>2023-01-21 03:16:04+00:00</td>\n",
       "    </tr>\n",
       "    <tr>\n",
       "      <th>2</th>\n",
       "      <td>elonmusk</td>\n",
       "      <td>@teslaownersSV I’m reviewing it next week for ...</td>\n",
       "      <td>895</td>\n",
       "      <td>81</td>\n",
       "      <td>2023-01-21 03:13:31+00:00</td>\n",
       "    </tr>\n",
       "    <tr>\n",
       "      <th>3</th>\n",
       "      <td>elonmusk</td>\n",
       "      <td>@TimRunsHisMouth Good question</td>\n",
       "      <td>8441</td>\n",
       "      <td>607</td>\n",
       "      <td>2023-01-21 00:50:16+00:00</td>\n",
       "    </tr>\n",
       "    <tr>\n",
       "      <th>4</th>\n",
       "      <td>elonmusk</td>\n",
       "      <td>(Tweets will be translated before being recomm...</td>\n",
       "      <td>19280</td>\n",
       "      <td>1076</td>\n",
       "      <td>2023-01-21 00:40:35+00:00</td>\n",
       "    </tr>\n",
       "  </tbody>\n",
       "</table>\n",
       "</div>"
      ],
      "text/plain": [
       "       user                                               text  \\\n",
       "0  elonmusk  @TheRightMelissa Back then, George Washington ...   \n",
       "1  elonmusk  @EvaFoxU @BillyM2k Japan has higher total user...   \n",
       "2  elonmusk  @teslaownersSV I’m reviewing it next week for ...   \n",
       "3  elonmusk                     @TimRunsHisMouth Good question   \n",
       "4  elonmusk  (Tweets will be translated before being recomm...   \n",
       "\n",
       "   favourite_count  retweet_count                created_at  \n",
       "0             7497            425 2023-01-21 03:18:35+00:00  \n",
       "1             1133            109 2023-01-21 03:16:04+00:00  \n",
       "2              895             81 2023-01-21 03:13:31+00:00  \n",
       "3             8441            607 2023-01-21 00:50:16+00:00  \n",
       "4            19280           1076 2023-01-21 00:40:35+00:00  "
      ]
     },
     "execution_count": 6,
     "metadata": {},
     "output_type": "execute_result"
    }
   ],
   "source": [
    "df=pd.DataFrame(tweet_list)\n",
    "df.head()"
   ]
  },
  {
   "cell_type": "code",
   "execution_count": null,
   "id": "a9dd5dfb-4139-4966-9b13-d9fca7fb236a",
   "metadata": {},
   "outputs": [],
   "source": []
  }
 ],
 "metadata": {
  "kernelspec": {
   "display_name": "Python 3 (ipykernel)",
   "language": "python",
   "name": "python3"
  },
  "language_info": {
   "codemirror_mode": {
    "name": "ipython",
    "version": 3
   },
   "file_extension": ".py",
   "mimetype": "text/x-python",
   "name": "python",
   "nbconvert_exporter": "python",
   "pygments_lexer": "ipython3",
   "version": "3.10.4"
  }
 },
 "nbformat": 4,
 "nbformat_minor": 5
}
